{
 "cells": [
  {
   "cell_type": "raw",
   "metadata": {},
   "source": [
    "Semi-Supervised Learning GAN - MNIST dataset\n",
    "Note I have not implemended this code, this was used as a module to compare to, a regular cnn classifier and a GAN boosted classifier"
   ]
  },
  {
   "cell_type": "code",
   "execution_count": 1,
   "metadata": {},
   "outputs": [],
   "source": [
    "import numpy as np\n",
    "import time\n",
    "import os\n",
    "\n",
    "import tensorflow as tf\n",
    "from tensorflow.examples.tutorials.mnist import input_data\n",
    "\n",
    "from matplotlib import pyplot as plt\n",
    "%matplotlib inline"
   ]
  },
  {
   "cell_type": "raw",
   "metadata": {},
   "source": [
    "Initialization"
   ]
  },
  {
   "cell_type": "code",
   "execution_count": 2,
   "metadata": {},
   "outputs": [],
   "source": [
    "x_height, x_width = [28, 28]\n",
    "num_channels = 1\n",
    "num_classes = 10\n",
    "latent_size = 100\n",
    "labeled_rate = 0.1\n",
    "\n",
    "log_path = './SSL_GAN_log.csv'\n",
    "model_path ='./SSL_GAN_model.ckpt'"
   ]
  },
  {
   "cell_type": "raw",
   "metadata": {},
   "source": [
    "Prepare Data"
   ]
  },
  {
   "cell_type": "code",
   "execution_count": 3,
   "metadata": {},
   "outputs": [],
   "source": [
    "def normalize(x):\n",
    "    # normalize data\n",
    "    x = (x - 127.5) / 127.5\n",
    "    return x.reshape((-1, x_height, x_width, 1))"
   ]
  },
  {
   "cell_type": "code",
   "execution_count": 4,
   "metadata": {},
   "outputs": [],
   "source": [
    " def get_data():\n",
    "    # MNIST data\n",
    "    from tensorflow.examples.tutorials.mnist import input_data\n",
    "    mnist_data = input_data.read_data_sets(\"MNIST_data\", one_hot=True)\n",
    "    #mnist_data = input_data.read_data_sets('mnist_data', one_hot = True)\n",
    "    return mnist_data"
   ]
  },
  {
   "cell_type": "raw",
   "metadata": {},
   "source": [
    "Build Model"
   ]
  },
  {
   "cell_type": "code",
   "execution_count": 5,
   "metadata": {},
   "outputs": [],
   "source": [
    "def D(x, dropout_rate, is_training, reuse = True, print_summary = True):\n",
    "    # discriminator (x -> n + 1 class)\n",
    "\n",
    "    with tf.variable_scope('Discriminator', reuse = reuse) as scope:\n",
    "        # layer1 - do not use Batch Normalization on the first layer of Discriminator\n",
    "        conv1 = tf.layers.conv2d(x, 32, [5, 5],\n",
    "                                 strides = [2, 2],\n",
    "                                 padding = 'same')\n",
    "        lrelu1 = tf.maximum(0.2 * conv1, conv1) #leaky relu\n",
    "        dropout1 = tf.layers.dropout(lrelu1, dropout_rate)\n",
    "\n",
    "        # layer2\n",
    "        conv2 = tf.layers.conv2d(dropout1, 64, [3, 3],\n",
    "                                 strides = [2, 2],\n",
    "                                 padding = 'same')\n",
    "        batch_norm2 = tf.layers.batch_normalization(conv2, training = is_training)\n",
    "        lrelu2 = tf.maximum(0.2 * batch_norm2, batch_norm2)\n",
    "\n",
    "        # layer3\n",
    "        conv3 = tf.layers.conv2d(lrelu2, 128, [2, 2],\n",
    "                                 strides = [2, 2],\n",
    "                                 padding = 'same')\n",
    "        batch_norm3 = tf.layers.batch_normalization(conv3, training = is_training)\n",
    "        lrelu3 = tf.maximum(0.2 * batch_norm3, batch_norm3)\n",
    "        dropout3 = tf.layers.dropout(lrelu3, dropout_rate)\n",
    "\n",
    "        # layer 4\n",
    "        conv4 = tf.layers.conv2d(dropout3, 128, [2, 2],\n",
    "                                 strides = [2, 2],\n",
    "                                 padding = 'same')\n",
    "        # do not use batch_normalization on this layer - next layer, \"flatten5\",\n",
    "        # will be used for \"Feature Matching\"\n",
    "        lrelu4 = tf.maximum(0.2 * conv4, conv4)\n",
    "\n",
    "        # layer 5\n",
    "        flatten_length = lrelu4.get_shape().as_list()[1] * \\\n",
    "                         lrelu4.get_shape().as_list()[2] * lrelu4.get_shape().as_list()[3]\n",
    "        flatten5 = tf.reshape(lrelu4, (-1, flatten_length)) # used for \"Feature Matching\" \n",
    "        fc5 = tf.layers.dense(flatten5, (num_classes))\n",
    "        output = tf.nn.softmax(fc5)\n",
    "\n",
    "        assert output.get_shape()[1:] == [num_classes]\n",
    "\n",
    "        if print_summary:\n",
    "            print('Discriminator summary:\\n x: %s\\n' \\\n",
    "                  ' D1: %s\\n D2: %s\\n D3: %s\\n D4: %s\\n' %(x.get_shape(), \n",
    "                                                           dropout1.get_shape(),\n",
    "                                                           lrelu2.get_shape(), \n",
    "                                                           dropout3.get_shape(),\n",
    "                                                           lrelu4.get_shape()))\n",
    "        return flatten5, fc5, output"
   ]
  },
  {
   "cell_type": "code",
   "execution_count": 6,
   "metadata": {},
   "outputs": [],
   "source": [
    "def G(z, is_training, reuse = False, print_summary = False):\n",
    "    # generator (z -> x)\n",
    "\n",
    "    with tf.variable_scope('Generator', reuse = reuse) as scope:\n",
    "        # layer 0\n",
    "        z_reshaped = tf.reshape(z, [-1, 1, 1, latent_size])\n",
    "\n",
    "        # layer 1\n",
    "        deconv1 = tf.layers.conv2d_transpose(z_reshaped,\n",
    "                                             filters = latent_size,\n",
    "                                             kernel_size = [2, 2],\n",
    "                                             strides = [1, 1],\n",
    "                                             padding = 'valid')\n",
    "        batch_norm1 = tf.layers.batch_normalization(deconv1, training = is_training)\n",
    "        relu1 = tf.nn.relu(batch_norm1)\n",
    "\n",
    "        # layer 2\n",
    "        deconv2 = tf.layers.conv2d_transpose(relu1,\n",
    "                                             filters = 64,\n",
    "                                             kernel_size = [3, 3],\n",
    "                                             strides = [2, 2],\n",
    "                                             padding = 'valid')\n",
    "        batch_norm2 = tf.layers.batch_normalization(deconv2, training = is_training)\n",
    "        relu2 = tf.nn.relu(batch_norm2)\n",
    "\n",
    "        # layer 3\n",
    "        deconv3 = tf.layers.conv2d_transpose(relu2,\n",
    "                                             filters = 32,\n",
    "                                             kernel_size = [4, 4],\n",
    "                                             strides = [2, 2],\n",
    "                                             padding = 'valid')\n",
    "        batch_norm3 = tf.layers.batch_normalization(deconv3, training = is_training)\n",
    "        relu3 = tf.nn.relu(batch_norm3)\n",
    "\n",
    "        # layer 4 - do not use Batch Normalization on the last layer of Generator\n",
    "        deconv4 = tf.layers.conv2d_transpose(relu3,\n",
    "                                             filters = num_channels,\n",
    "                                             kernel_size = [6, 6],\n",
    "                                             strides = [2, 2],\n",
    "                                             padding = 'valid')\n",
    "        tanh4 = tf.tanh(deconv4)\n",
    "\n",
    "        assert tanh4.get_shape()[1:] == [x_height, x_width, num_channels]\n",
    "        if print_summary:\n",
    "            print('Generator summary:\\n z: %s\\n' \\\n",
    "                  ' G0: %s\\n G1: %s\\n G2: %s\\n G3: %s\\n G4: %s\\n' %(z.get_shape(),\n",
    "                                                                    z_reshaped.get_shape(),\n",
    "                                                                    relu1.get_shape(),\n",
    "                                                                    relu2.get_shape(),\n",
    "                                                                    relu3.get_shape(),\n",
    "                                                                    tanh4.get_shape()))\n",
    "        return tanh4"
   ]
  },
  {
   "cell_type": "code",
   "execution_count": 7,
   "metadata": {},
   "outputs": [],
   "source": [
    "def build_model(x_real, z, label, dropout_rate, is_training, print_summary = False):\n",
    "    # build model\n",
    "    D_real_features, D_real_logit, D_real_prob = D(x_real, dropout_rate, is_training,\n",
    "                                                   reuse = False, print_summary = print_summary)\n",
    "    x_fake = G(z, is_training, reuse = False, print_summary = print_summary)\n",
    "    D_fake_features, D_fake_logit, D_fake_prob = D(x_fake, dropout_rate, is_training,\n",
    "                                                   reuse = True, print_summary = print_summary)\n",
    "\n",
    "    return D_real_features, D_real_logit, D_real_prob, D_fake_features, D_fake_logit, D_fake_prob, x_fake"
   ]
  },
  {
   "cell_type": "code",
   "execution_count": 8,
   "metadata": {},
   "outputs": [],
   "source": [
    "def prepare_labels(label):\n",
    "    # add extra label for fake data\n",
    "    extended_label = tf.concat([label, tf.zeros([tf.shape(label)[0], 1])], axis = 1)\n",
    "\n",
    "    return extended_label"
   ]
  },
  {
   "cell_type": "code",
   "execution_count": 19,
   "metadata": {},
   "outputs": [],
   "source": [
    "def loss_accuracy(D_real_features, D_real_logit, D_real_prob, D_fake_features,\n",
    "                  D_fake_logit, D_fake_prob, extended_label, labeled_mask):\n",
    "    epsilon = 1e-8 # used to avoid NAN loss\n",
    "    # *** Discriminator loss ***\n",
    "    # supervised loss\n",
    "    # which class the real data belongs to\n",
    "    tmp = tf.nn.softmax_cross_entropy_with_logits(logits = D_real_logit,\n",
    "                                                  labels = extended_label)\n",
    "    \n",
    "    D_L_supervised = tf.reduce_sum(labeled_mask * tmp) / tf.reduce_sum(labeled_mask) # to ignore\n",
    "                                                                                     # unlabeled\n",
    "                                                                                     # data\n",
    "\n",
    "    # unsupervised loss\n",
    "    # data is real\n",
    "    prob_real_be_real = 1 - D_real_prob[:, -1] + epsilon\n",
    "    tmp_log = tf.log(prob_real_be_real)\n",
    "    D_L_unsupervised1 = -1 * tf.reduce_mean(tmp_log)\n",
    "\n",
    "    # data is fake\n",
    "    prob_fake_be_fake = D_fake_prob[:, -1] + epsilon\n",
    "    tmp_log = tf.log(prob_fake_be_fake)\n",
    "    D_L_unsupervised2 = -1 * tf.reduce_mean(tmp_log)\n",
    "\n",
    "    D_L = D_L_supervised + epsilon#+ D_L_unsupervised1 + D_L_unsupervised2\n",
    "\n",
    "    # *** Generator loss ***\n",
    "    # fake data is mistaken to be real\n",
    "    prob_fake_be_real = 1 - D_fake_prob[:, -1] + epsilon\n",
    "    tmp_log =  tf.log(prob_fake_be_real)\n",
    "    G_L1 = -1 * tf.reduce_mean(tmp_log)\n",
    "\n",
    "    # Feature Maching\n",
    "    tmp1 = tf.reduce_mean(D_real_features, axis = 0)\n",
    "    tmp2 = tf.reduce_mean(D_fake_features, axis = 0)\n",
    "    G_L2 = tf.reduce_mean(tf.square(tmp1 - tmp2))\n",
    "\n",
    "    G_L = G_L1 + G_L2\n",
    "\n",
    "    # accuracy\n",
    "    correct_prediction = tf.equal(tf.argmax(D_real_prob[:, :-1], 1), tf.argmax(extended_label[:, :-1], 1))\n",
    "    accuracy = tf.reduce_mean(tf.cast(correct_prediction, tf.float32))\n",
    "    \n",
    "    return D_L_supervised, D_L_unsupervised1, D_L_unsupervised2, D_L, G_L, accuracy\n",
    "    "
   ]
  },
  {
   "cell_type": "code",
   "execution_count": 20,
   "metadata": {},
   "outputs": [],
   "source": [
    "def optimizer(D_Loss, G_Loss, D_learning_rate, G_learning_rate):\n",
    "    # D and G optimizer\n",
    "    extra_update_ops = tf.get_collection(tf.GraphKeys.UPDATE_OPS)\n",
    "    with tf.control_dependencies(extra_update_ops):\n",
    "        all_vars = tf.trainable_variables()\n",
    "        D_vars = [var for var in all_vars if var.name.startswith('Discriminator')]\n",
    "        G_vars = [var for var in all_vars if var.name.startswith('Generator')]\n",
    "\n",
    "        D_optimizer = tf.train.AdamOptimizer(D_learning_rate).minimize(D_Loss, var_list = D_vars)\n",
    "        G_optimizer = tf.train.AdamOptimizer(G_learning_rate).minimize(G_Loss, var_list = G_vars)\n",
    "        return D_optimizer, G_optimizer"
   ]
  },
  {
   "cell_type": "raw",
   "metadata": {},
   "source": [
    "Visualize"
   ]
  },
  {
   "cell_type": "code",
   "execution_count": 21,
   "metadata": {},
   "outputs": [],
   "source": [
    "def plot_fake_data(data, grid_size = [5, 5]):\n",
    "    # visualize some data generated by G\n",
    "    _, axes = plt.subplots(figsize = grid_size, nrows = grid_size[0], ncols = grid_size[1],\n",
    "                           sharey = True, sharex = True)\n",
    "\n",
    "    size = grid_size[0] * grid_size[1]\n",
    "    index = np.int_(np.random.uniform(0, data.shape[0], size = (size)))\n",
    "    figs = data[index].reshape(-1, x_height, x_width)\n",
    "\n",
    "    for idx, ax in enumerate(axes.flatten()):\n",
    "        ax.axis('off')\n",
    "        ax.imshow(figs[idx], cmap = 'gray')\n",
    "    plt.tight_layout()\n",
    "    plt.show()"
   ]
  },
  {
   "cell_type": "raw",
   "metadata": {},
   "source": [
    "Train Model"
   ]
  },
  {
   "cell_type": "code",
   "execution_count": 22,
   "metadata": {},
   "outputs": [],
   "source": [
    "def save_model_on_imporvemnet(file_path, sess, cv_acc, cv_accs):\n",
    "  #  # save model when there is improvemnet in cv_acc value\n",
    "    if cv_accs == [] or cv_acc > np.max(cv_accs):\n",
    "        saver = tf.train.Saver(max_to_keep = 1)\n",
    "        saver.save(sess, file_path)\n",
    "        print('Model saved')\n",
    "    print('')"
   ]
  },
  {
   "cell_type": "code",
   "execution_count": 23,
   "metadata": {},
   "outputs": [],
   "source": [
    "def get_labled_mask(labeled_rate, batch_size):\n",
    "    # get labeled mask to mask some data unlabeled\n",
    "    labeled_mask = np.zeros([batch_size], dtype = np.float32)\n",
    "    labeled_count = np.int(batch_size * labeled_rate)\n",
    "    labeled_mask[range(labeled_count)] = 1.0\n",
    "    #np.random.shuffle(labeled_mask)\n",
    "\n",
    "    return labeled_mask"
   ]
  },
  {
   "cell_type": "code",
   "execution_count": 24,
   "metadata": {},
   "outputs": [],
   "source": [
    "def log_loss_acc(file_path, epoch, train_loss_D, train_loss_G, train_Acc,\n",
    "                 cv_loss_D, cv_loss_G, cv_Acc, log_mode = 'a'):\n",
    "    # log train and cv losses as well as accuracy\n",
    "    mode = log_mode if epoch == 0 else 'a'\n",
    "\n",
    "    with open(file_path, mode) as f:\n",
    "        if mode == 'w':\n",
    "            header = 'epoch, train_loss_D, train_loss_G,' \\\n",
    "                     'train_Acc, cv_loss_D, cv_loss_G, cv_Acc\\n'\n",
    "            f.write(header)\n",
    "\n",
    "        line = '%d, %f, %f, %f, %f, %f, %f\\n' %(epoch, train_loss_D, train_loss_G, train_Acc,\n",
    "                                                cv_loss_D, cv_loss_G, cv_Acc)\n",
    "        f.write(line)"
   ]
  },
  {
   "cell_type": "code",
   "execution_count": 25,
   "metadata": {},
   "outputs": [],
   "source": [
    "def train_SSL_GAN(batch_size, epochs):\n",
    "    # train Semi-Supervised Learning GAN\n",
    "    train_D_losses, train_G_losses, train_Accs = [], [], []\n",
    "    cv_D_losses, cv_G_losses, cv_Accs = [], [], []\n",
    "\n",
    "    tf.reset_default_graph()\n",
    "\n",
    "    x = tf.placeholder(tf.float32, name = 'x', shape = [None, x_height, x_width, num_channels])\n",
    "    label = tf.placeholder(tf.float32, name = 'label', shape = [None, num_classes])\n",
    "    labeled_mask = tf.placeholder(tf.float32, name = 'labeled_mask', shape = [None])\n",
    "    z = tf.placeholder(tf.float32, name = 'z', shape = [None, latent_size])\n",
    "    dropout_rate = tf.placeholder(tf.float32, name = 'dropout_rate')\n",
    "    is_training = tf.placeholder(tf.bool, name = 'is_training')\n",
    "    G_learning_rate = tf.placeholder(tf.float32, name = 'G_learning_rate')\n",
    "    D_learning_rate = tf.placeholder(tf.float32, name = 'D_learning_rate')\n",
    "\n",
    "    model = build_model(x, z, label, dropout_rate, is_training, print_summary = True)\n",
    "    D_real_features, D_real_logit, D_real_prob, D_fake_features, D_fake_logit, D_fake_prob, fake_data = model\n",
    "    extended_label = label#prepare_labels(label)\n",
    "    loss_acc  = loss_accuracy(D_real_features, D_real_logit, D_real_prob,\n",
    "                              D_fake_features, D_fake_logit, D_fake_prob,\n",
    "                              extended_label, labeled_mask)\n",
    "    _, _, _, D_L, G_L, accuracy = loss_acc\n",
    "    D_optimizer, G_optimizer = optimizer(D_L, G_L, G_learning_rate, D_learning_rate)\n",
    "\n",
    "    print('training....')\n",
    "\n",
    "    with tf.Session() as sess:       \n",
    "        sess.run(tf.global_variables_initializer())\n",
    "        mnist_set = get_data()\n",
    "\n",
    "        for epoch in range(epochs):\n",
    "            t_total = 0\n",
    "            for iter in range(int(mnist_set.train.images.shape[0] / batch_size) + 1):\n",
    "                t_start = time.time()\n",
    "                batch = mnist_set.train.next_batch(batch_size, shuffle = False)\n",
    "                batch_z = np.random.uniform(-1.0, 1.0, size = (batch_size, latent_size))\n",
    "                mask = get_labled_mask(labeled_rate, batch_size)\n",
    "                train_feed_dictionary = {x:  normalize(batch[0]),\n",
    "                                         z: batch_z,\n",
    "                                         label: batch[1],\n",
    "                                         labeled_mask: mask,\n",
    "                                         dropout_rate: 0.5,\n",
    "                                         G_learning_rate: 1e-5,\n",
    "                                         D_learning_rate: 1e-5,\n",
    "                                         is_training: True}\n",
    "\n",
    "                D_optimizer.run(feed_dict = train_feed_dictionary)\n",
    "                #G_optimizer.run(feed_dict = train_feed_dictionary)\n",
    "\n",
    "                train_D_loss = D_L.eval(feed_dict = train_feed_dictionary)\n",
    "                train_G_loss = 0#G_L.eval(feed_dict = train_feed_dictionary)\n",
    "                train_accuracy = accuracy.eval(feed_dict = train_feed_dictionary)\n",
    "                t_total += (time.time() - t_start)\n",
    "\n",
    "                print('epoch: %d, time: %f | train_G_Loss: %f, ' \\\n",
    "                      'train_D_loss: %f, train_acc: %f' %(epoch, t_total,\n",
    "                                                          train_G_loss, train_D_loss,\n",
    "                                                          train_accuracy), end = '\\r')\n",
    "            train_D_losses.append(train_D_loss)\n",
    "            #train_G_losses.append(train_G_loss)\n",
    "            train_Accs.append(train_accuracy)\n",
    "\n",
    "            # Cross-Validation\n",
    "            cv_size = mnist_set.test.labels.shape[0]\n",
    "            #cv_batch_z = np.random.uniform(-1.0, 1.0, size = (cv_size, latent_size))\n",
    "            mask = get_labled_mask(1, cv_size)\n",
    "            cv_feed_dictionary = {x: normalize(mnist_set.test.images),\n",
    "                                  z: cv_batch_z,\n",
    "                                  label: mnist_set.test.labels,\n",
    "                                  labeled_mask: mask,\n",
    "                                  dropout_rate: 0.0,\n",
    "                                  is_training: False}\n",
    "\n",
    "            cv_D_loss = D_L.eval(feed_dict = cv_feed_dictionary)\n",
    "            cv_G_loss = 0#G_L.eval(feed_dict = cv_feed_dictionary)\n",
    "            cv_accuracy = accuracy.eval(feed_dict = cv_feed_dictionary)\n",
    "\n",
    "            log_loss_acc(log_path, epoch, train_D_loss, train_G_loss, train_accuracy,\n",
    "                         cv_D_loss, cv_G_loss, cv_accuracy, log_mode = 'w')\n",
    "            print('\\ncv_G_Loss: %f, cv_D_loss: %f, cv_acc: %f' %(cv_G_loss,\n",
    "                                                                 cv_D_loss,\n",
    "                                                                 cv_accuracy))\n",
    "            save_model_on_imporvemnet(model_path, sess, cv_accuracy, cv_Accs)\n",
    "            cv_D_losses.append(cv_D_loss)\n",
    "            cv_G_losses.append(cv_G_loss)\n",
    "            cv_Accs.append(cv_accuracy)\n",
    "\n",
    "            #if epoch % 10 == 0:\n",
    "            #    fakes = fake_data.eval(feed_dict = cv_feed_dictionary)\n",
    "            #    plot_fake_data(fakes, [5, 5])\n",
    "\n",
    "    return train_D_losses, train_G_losses, train_Accs, cv_D_losses, cv_G_losses, cv_Accs"
   ]
  },
  {
   "cell_type": "code",
   "execution_count": 26,
   "metadata": {
    "scrolled": false
   },
   "outputs": [
    {
     "name": "stdout",
     "output_type": "stream",
     "text": [
      "Discriminator summary:\n",
      " x: (?, 28, 28, 1)\n",
      " D1: (?, 14, 14, 32)\n",
      " D2: (?, 7, 7, 64)\n",
      " D3: (?, 4, 4, 128)\n",
      " D4: (?, 2, 2, 128)\n",
      "\n",
      "Generator summary:\n",
      " z: (?, 100)\n",
      " G0: (?, 1, 1, 100)\n",
      " G1: (?, 2, 2, 100)\n",
      " G2: (?, 5, 5, 64)\n",
      " G3: (?, 12, 12, 32)\n",
      " G4: (?, 28, 28, 1)\n",
      "\n",
      "Discriminator summary:\n",
      " x: (?, 28, 28, 1)\n",
      " D1: (?, 14, 14, 32)\n",
      " D2: (?, 7, 7, 64)\n",
      " D3: (?, 4, 4, 128)\n",
      " D4: (?, 2, 2, 128)\n",
      "\n",
      "training....\n",
      "Extracting MNIST_data/train-images-idx3-ubyte.gz\n",
      "Extracting MNIST_data/train-labels-idx1-ubyte.gz\n",
      "Extracting MNIST_data/t10k-images-idx3-ubyte.gz\n",
      "Extracting MNIST_data/t10k-labels-idx1-ubyte.gz\n",
      "epoch: 0, time: 5.600801 | train_G_Loss: 0.000000, train_D_loss: nan, train_acc: 0.000000\r"
     ]
    },
    {
     "ename": "KeyboardInterrupt",
     "evalue": "",
     "output_type": "error",
     "traceback": [
      "\u001b[0;31m---------------------------------------------------------------------------\u001b[0m",
      "\u001b[0;31mKeyboardInterrupt\u001b[0m                         Traceback (most recent call last)",
      "\u001b[0;32m<ipython-input-26-e2ee21f78eab>\u001b[0m in \u001b[0;36m<module>\u001b[0;34m()\u001b[0m\n\u001b[0;32m----> 1\u001b[0;31m \u001b[0mloss_acc\u001b[0m \u001b[0;34m=\u001b[0m \u001b[0mtrain_SSL_GAN\u001b[0m\u001b[0;34m(\u001b[0m\u001b[0;36m2\u001b[0m\u001b[0;34m,\u001b[0m \u001b[0;36m151\u001b[0m\u001b[0;34m)\u001b[0m\u001b[0;34m\u001b[0m\u001b[0m\n\u001b[0m",
      "\u001b[0;32m<ipython-input-25-abdac68fa28a>\u001b[0m in \u001b[0;36mtrain_SSL_GAN\u001b[0;34m(batch_size, epochs)\u001b[0m\n\u001b[1;32m     46\u001b[0m                                          is_training: True}\n\u001b[1;32m     47\u001b[0m \u001b[0;34m\u001b[0m\u001b[0m\n\u001b[0;32m---> 48\u001b[0;31m                 \u001b[0mD_optimizer\u001b[0m\u001b[0;34m.\u001b[0m\u001b[0mrun\u001b[0m\u001b[0;34m(\u001b[0m\u001b[0mfeed_dict\u001b[0m \u001b[0;34m=\u001b[0m \u001b[0mtrain_feed_dictionary\u001b[0m\u001b[0;34m)\u001b[0m\u001b[0;34m\u001b[0m\u001b[0m\n\u001b[0m\u001b[1;32m     49\u001b[0m                 \u001b[0;31m#G_optimizer.run(feed_dict = train_feed_dictionary)\u001b[0m\u001b[0;34m\u001b[0m\u001b[0;34m\u001b[0m\u001b[0m\n\u001b[1;32m     50\u001b[0m \u001b[0;34m\u001b[0m\u001b[0m\n",
      "\u001b[0;32m/Library/Frameworks/Python.framework/Versions/3.6/lib/python3.6/site-packages/tensorflow/python/framework/ops.py\u001b[0m in \u001b[0;36mrun\u001b[0;34m(self, feed_dict, session)\u001b[0m\n\u001b[1;32m   2283\u001b[0m         \u001b[0mnone\u001b[0m\u001b[0;34m,\u001b[0m \u001b[0mthe\u001b[0m \u001b[0mdefault\u001b[0m \u001b[0msession\u001b[0m \u001b[0mwill\u001b[0m \u001b[0mbe\u001b[0m \u001b[0mused\u001b[0m\u001b[0;34m.\u001b[0m\u001b[0;34m\u001b[0m\u001b[0m\n\u001b[1;32m   2284\u001b[0m     \"\"\"\n\u001b[0;32m-> 2285\u001b[0;31m     \u001b[0m_run_using_default_session\u001b[0m\u001b[0;34m(\u001b[0m\u001b[0mself\u001b[0m\u001b[0;34m,\u001b[0m \u001b[0mfeed_dict\u001b[0m\u001b[0;34m,\u001b[0m \u001b[0mself\u001b[0m\u001b[0;34m.\u001b[0m\u001b[0mgraph\u001b[0m\u001b[0;34m,\u001b[0m \u001b[0msession\u001b[0m\u001b[0;34m)\u001b[0m\u001b[0;34m\u001b[0m\u001b[0m\n\u001b[0m\u001b[1;32m   2286\u001b[0m \u001b[0;34m\u001b[0m\u001b[0m\n\u001b[1;32m   2287\u001b[0m \u001b[0m_gradient_registry\u001b[0m \u001b[0;34m=\u001b[0m \u001b[0mregistry\u001b[0m\u001b[0;34m.\u001b[0m\u001b[0mRegistry\u001b[0m\u001b[0;34m(\u001b[0m\u001b[0;34m\"gradient\"\u001b[0m\u001b[0;34m)\u001b[0m\u001b[0;34m\u001b[0m\u001b[0m\n",
      "\u001b[0;32m/Library/Frameworks/Python.framework/Versions/3.6/lib/python3.6/site-packages/tensorflow/python/framework/ops.py\u001b[0m in \u001b[0;36m_run_using_default_session\u001b[0;34m(operation, feed_dict, graph, session)\u001b[0m\n\u001b[1;32m   4934\u001b[0m                        \u001b[0;34m\"the operation's graph is different from the session's \"\u001b[0m\u001b[0;34m\u001b[0m\u001b[0m\n\u001b[1;32m   4935\u001b[0m                        \"graph.\")\n\u001b[0;32m-> 4936\u001b[0;31m   \u001b[0msession\u001b[0m\u001b[0;34m.\u001b[0m\u001b[0mrun\u001b[0m\u001b[0;34m(\u001b[0m\u001b[0moperation\u001b[0m\u001b[0;34m,\u001b[0m \u001b[0mfeed_dict\u001b[0m\u001b[0;34m)\u001b[0m\u001b[0;34m\u001b[0m\u001b[0m\n\u001b[0m\u001b[1;32m   4937\u001b[0m \u001b[0;34m\u001b[0m\u001b[0m\n\u001b[1;32m   4938\u001b[0m \u001b[0;34m\u001b[0m\u001b[0m\n",
      "\u001b[0;32m/Library/Frameworks/Python.framework/Versions/3.6/lib/python3.6/site-packages/tensorflow/python/client/session.py\u001b[0m in \u001b[0;36mrun\u001b[0;34m(self, fetches, feed_dict, options, run_metadata)\u001b[0m\n\u001b[1;32m    903\u001b[0m     \u001b[0;32mtry\u001b[0m\u001b[0;34m:\u001b[0m\u001b[0;34m\u001b[0m\u001b[0m\n\u001b[1;32m    904\u001b[0m       result = self._run(None, fetches, feed_dict, options_ptr,\n\u001b[0;32m--> 905\u001b[0;31m                          run_metadata_ptr)\n\u001b[0m\u001b[1;32m    906\u001b[0m       \u001b[0;32mif\u001b[0m \u001b[0mrun_metadata\u001b[0m\u001b[0;34m:\u001b[0m\u001b[0;34m\u001b[0m\u001b[0m\n\u001b[1;32m    907\u001b[0m         \u001b[0mproto_data\u001b[0m \u001b[0;34m=\u001b[0m \u001b[0mtf_session\u001b[0m\u001b[0;34m.\u001b[0m\u001b[0mTF_GetBuffer\u001b[0m\u001b[0;34m(\u001b[0m\u001b[0mrun_metadata_ptr\u001b[0m\u001b[0;34m)\u001b[0m\u001b[0;34m\u001b[0m\u001b[0m\n",
      "\u001b[0;32m/Library/Frameworks/Python.framework/Versions/3.6/lib/python3.6/site-packages/tensorflow/python/client/session.py\u001b[0m in \u001b[0;36m_run\u001b[0;34m(self, handle, fetches, feed_dict, options, run_metadata)\u001b[0m\n\u001b[1;32m   1135\u001b[0m     \u001b[0;32mif\u001b[0m \u001b[0mfinal_fetches\u001b[0m \u001b[0;32mor\u001b[0m \u001b[0mfinal_targets\u001b[0m \u001b[0;32mor\u001b[0m \u001b[0;34m(\u001b[0m\u001b[0mhandle\u001b[0m \u001b[0;32mand\u001b[0m \u001b[0mfeed_dict_tensor\u001b[0m\u001b[0;34m)\u001b[0m\u001b[0;34m:\u001b[0m\u001b[0;34m\u001b[0m\u001b[0m\n\u001b[1;32m   1136\u001b[0m       results = self._do_run(handle, final_targets, final_fetches,\n\u001b[0;32m-> 1137\u001b[0;31m                              feed_dict_tensor, options, run_metadata)\n\u001b[0m\u001b[1;32m   1138\u001b[0m     \u001b[0;32melse\u001b[0m\u001b[0;34m:\u001b[0m\u001b[0;34m\u001b[0m\u001b[0m\n\u001b[1;32m   1139\u001b[0m       \u001b[0mresults\u001b[0m \u001b[0;34m=\u001b[0m \u001b[0;34m[\u001b[0m\u001b[0;34m]\u001b[0m\u001b[0;34m\u001b[0m\u001b[0m\n",
      "\u001b[0;32m/Library/Frameworks/Python.framework/Versions/3.6/lib/python3.6/site-packages/tensorflow/python/client/session.py\u001b[0m in \u001b[0;36m_do_run\u001b[0;34m(self, handle, target_list, fetch_list, feed_dict, options, run_metadata)\u001b[0m\n\u001b[1;32m   1353\u001b[0m     \u001b[0;32mif\u001b[0m \u001b[0mhandle\u001b[0m \u001b[0;32mis\u001b[0m \u001b[0;32mNone\u001b[0m\u001b[0;34m:\u001b[0m\u001b[0;34m\u001b[0m\u001b[0m\n\u001b[1;32m   1354\u001b[0m       return self._do_call(_run_fn, self._session, feeds, fetches, targets,\n\u001b[0;32m-> 1355\u001b[0;31m                            options, run_metadata)\n\u001b[0m\u001b[1;32m   1356\u001b[0m     \u001b[0;32melse\u001b[0m\u001b[0;34m:\u001b[0m\u001b[0;34m\u001b[0m\u001b[0m\n\u001b[1;32m   1357\u001b[0m       \u001b[0;32mreturn\u001b[0m \u001b[0mself\u001b[0m\u001b[0;34m.\u001b[0m\u001b[0m_do_call\u001b[0m\u001b[0;34m(\u001b[0m\u001b[0m_prun_fn\u001b[0m\u001b[0;34m,\u001b[0m \u001b[0mself\u001b[0m\u001b[0;34m.\u001b[0m\u001b[0m_session\u001b[0m\u001b[0;34m,\u001b[0m \u001b[0mhandle\u001b[0m\u001b[0;34m,\u001b[0m \u001b[0mfeeds\u001b[0m\u001b[0;34m,\u001b[0m \u001b[0mfetches\u001b[0m\u001b[0;34m)\u001b[0m\u001b[0;34m\u001b[0m\u001b[0m\n",
      "\u001b[0;32m/Library/Frameworks/Python.framework/Versions/3.6/lib/python3.6/site-packages/tensorflow/python/client/session.py\u001b[0m in \u001b[0;36m_do_call\u001b[0;34m(self, fn, *args)\u001b[0m\n\u001b[1;32m   1359\u001b[0m   \u001b[0;32mdef\u001b[0m \u001b[0m_do_call\u001b[0m\u001b[0;34m(\u001b[0m\u001b[0mself\u001b[0m\u001b[0;34m,\u001b[0m \u001b[0mfn\u001b[0m\u001b[0;34m,\u001b[0m \u001b[0;34m*\u001b[0m\u001b[0margs\u001b[0m\u001b[0;34m)\u001b[0m\u001b[0;34m:\u001b[0m\u001b[0;34m\u001b[0m\u001b[0m\n\u001b[1;32m   1360\u001b[0m     \u001b[0;32mtry\u001b[0m\u001b[0;34m:\u001b[0m\u001b[0;34m\u001b[0m\u001b[0m\n\u001b[0;32m-> 1361\u001b[0;31m       \u001b[0;32mreturn\u001b[0m \u001b[0mfn\u001b[0m\u001b[0;34m(\u001b[0m\u001b[0;34m*\u001b[0m\u001b[0margs\u001b[0m\u001b[0;34m)\u001b[0m\u001b[0;34m\u001b[0m\u001b[0m\n\u001b[0m\u001b[1;32m   1362\u001b[0m     \u001b[0;32mexcept\u001b[0m \u001b[0merrors\u001b[0m\u001b[0;34m.\u001b[0m\u001b[0mOpError\u001b[0m \u001b[0;32mas\u001b[0m \u001b[0me\u001b[0m\u001b[0;34m:\u001b[0m\u001b[0;34m\u001b[0m\u001b[0m\n\u001b[1;32m   1363\u001b[0m       \u001b[0mmessage\u001b[0m \u001b[0;34m=\u001b[0m \u001b[0mcompat\u001b[0m\u001b[0;34m.\u001b[0m\u001b[0mas_text\u001b[0m\u001b[0;34m(\u001b[0m\u001b[0me\u001b[0m\u001b[0;34m.\u001b[0m\u001b[0mmessage\u001b[0m\u001b[0;34m)\u001b[0m\u001b[0;34m\u001b[0m\u001b[0m\n",
      "\u001b[0;32m/Library/Frameworks/Python.framework/Versions/3.6/lib/python3.6/site-packages/tensorflow/python/client/session.py\u001b[0m in \u001b[0;36m_run_fn\u001b[0;34m(session, feed_dict, fetch_list, target_list, options, run_metadata)\u001b[0m\n\u001b[1;32m   1338\u001b[0m         \u001b[0;32melse\u001b[0m\u001b[0;34m:\u001b[0m\u001b[0;34m\u001b[0m\u001b[0m\n\u001b[1;32m   1339\u001b[0m           return tf_session.TF_Run(session, options, feed_dict, fetch_list,\n\u001b[0;32m-> 1340\u001b[0;31m                                    target_list, status, run_metadata)\n\u001b[0m\u001b[1;32m   1341\u001b[0m \u001b[0;34m\u001b[0m\u001b[0m\n\u001b[1;32m   1342\u001b[0m     \u001b[0;32mdef\u001b[0m \u001b[0m_prun_fn\u001b[0m\u001b[0;34m(\u001b[0m\u001b[0msession\u001b[0m\u001b[0;34m,\u001b[0m \u001b[0mhandle\u001b[0m\u001b[0;34m,\u001b[0m \u001b[0mfeed_dict\u001b[0m\u001b[0;34m,\u001b[0m \u001b[0mfetch_list\u001b[0m\u001b[0;34m)\u001b[0m\u001b[0;34m:\u001b[0m\u001b[0;34m\u001b[0m\u001b[0m\n",
      "\u001b[0;31mKeyboardInterrupt\u001b[0m: "
     ]
    }
   ],
   "source": [
    "loss_acc = train_SSL_GAN(2, 151)"
   ]
  },
  {
   "cell_type": "code",
   "execution_count": 21,
   "metadata": {},
   "outputs": [
    {
     "data": {
      "image/png": "[encoded data removed]",
      "text/plain": [
       "<matplotlib.figure.Figure at 0x13891d320>"
      ]
     },
     "metadata": {},
     "output_type": "display_data"
    }
   ],
   "source": [
    "import matplotlib.pyplot as plt\n",
    "train_acc = loss_acc[2]\n",
    "test_acc = loss_acc[5]\n",
    "plt.plot(test_acc, 'r', label='test accuracy')\n",
    "plt.plot(train_acc, 'b', label='train accuracy')\n",
    "plt.show()"
   ]
  },
  {
   "cell_type": "code",
   "execution_count": null,
   "metadata": {},
   "outputs": [],
   "source": []
  }
 ],
 "metadata": {
  "kernelspec": {
   "display_name": "Python 3",
   "language": "python",
   "name": "python3"
  },
  "language_info": {
   "codemirror_mode": {
    "name": "ipython",
    "version": 3
   },
   "file_extension": ".py",
   "mimetype": "text/x-python",
   "name": "python",
   "nbconvert_exporter": "python",
   "pygments_lexer": "ipython3",
   "version": "3.6.6"
  }
 },
 "nbformat": 4,
 "nbformat_minor": 2
}
